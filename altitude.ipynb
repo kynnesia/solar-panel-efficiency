{
 "cells": [
  {
   "cell_type": "code",
   "execution_count": 116,
   "id": "21f8c705",
   "metadata": {},
   "outputs": [],
   "source": [
    "import requests\n",
    "\n",
    "def altitude(latitude, longitude):\n",
    "    BASE_URI =\"https://api.opentopodata.org/v1/test-dataset?locations=\"\n",
    "    \n",
    "    # Given a latitude and a longitude, the altitude will be calculate it\n",
    "    \n",
    "    url = BASE_URI+str(latitude)+\",\"+ str(longitude)\n",
    "    \n",
    "    altitude = requests.get(url).json()\n",
    "    return altitude[\"results\"][0]\n"
   ]
  },
  {
   "cell_type": "code",
   "execution_count": 133,
   "id": "d8089b5f",
   "metadata": {},
   "outputs": [],
   "source": []
  },
  {
   "cell_type": "code",
   "execution_count": 213,
   "id": "057d11aa",
   "metadata": {
    "scrolled": true
   },
   "outputs": [],
   "source": [
    "import requests\n",
    "\n",
    "def polution(latitude,longitude,date):\n",
    "    \n",
    "    token = open('.waqitoken').read()\n",
    "    token = token.strip()\n",
    "\n",
    "    BASE_URI = \"https://history.openweathermap.org/data/3.0/history/timemachine?lat={\"\n",
    "    \n",
    "#     lat}&lon={\n",
    "#     lon}&dt={\n",
    "#     dt\n",
    "#     }&appid={\n",
    "#     API key}\n",
    "        \n",
    "    # Given a latitude and a longitude, polution parametres : ,..... are showed\n",
    "    \n",
    "    url = BASE_URI + str(latitude) + \"}&lon={\"+ str(longitude) + \"}&dt={\" + str(date) + \"}&appid={\" + token + \"}\"\n",
    "\n",
    "    polution = requests.get(url).json()\n",
    "    return polution\n",
    "    "
   ]
  },
  {
   "cell_type": "code",
   "execution_count": 214,
   "id": "5a359e3d",
   "metadata": {},
   "outputs": [
    {
     "data": {
      "text/plain": [
       "{'cod': 401,\n",
       " 'message': 'Invalid API key. Please see http://openweathermap.org/faq#error401 for more info.'}"
      ]
     },
     "execution_count": 214,
     "metadata": {},
     "output_type": "execute_result"
    }
   ],
   "source": [
    "polution(32.3220,65.1190,1388530740)"
   ]
  },
  {
   "cell_type": "code",
   "execution_count": null,
   "id": "6c680470",
   "metadata": {},
   "outputs": [],
   "source": [
    "https://history.openweathermap.org/data/2.5/history/city?lat={\n",
    "lat\n",
    "}&lon={\n",
    "lon\n",
    "}&type=\n",
    "hour&start={start}&end={end}&appid={API key}"
   ]
  },
  {
   "cell_type": "code",
   "execution_count": 196,
   "id": "5469513c",
   "metadata": {},
   "outputs": [
    {
     "data": {
      "text/plain": [
       "Index(['country', 'country_long', 'name', 'gppd_idnr', 'capacity_mw',\n",
       "       'latitude', 'longitude', 'primary_fuel', 'other_fuel1', 'other_fuel2',\n",
       "       'other_fuel3', 'commissioning_year', 'owner', 'source', 'url',\n",
       "       'geolocation_source', 'wepp_id', 'year_of_capacity_data',\n",
       "       'generation_gwh_2013', 'generation_gwh_2014', 'generation_gwh_2015',\n",
       "       'generation_gwh_2016', 'generation_gwh_2017', 'generation_gwh_2018',\n",
       "       'generation_gwh_2019', 'generation_data_source',\n",
       "       'estimated_generation_gwh_2013', 'estimated_generation_gwh_2014',\n",
       "       'estimated_generation_gwh_2015', 'estimated_generation_gwh_2016',\n",
       "       'estimated_generation_gwh_2017', 'estimated_generation_note_2013',\n",
       "       'estimated_generation_note_2014', 'estimated_generation_note_2015',\n",
       "       'estimated_generation_note_2016', 'estimated_generation_note_2017'],\n",
       "      dtype='object')"
      ]
     },
     "execution_count": 196,
     "metadata": {},
     "output_type": "execute_result"
    }
   ],
   "source": [
    "df_solar = df[df[\"primary_fuel\"] == \"Solar\"]\n",
    "df_solar.columns\n",
    "# del 2013 al 2019"
   ]
  },
  {
   "cell_type": "code",
   "execution_count": 218,
   "id": "a5890771",
   "metadata": {},
   "outputs": [
    {
     "data": {
      "text/plain": [
       "country                           10665\n",
       "country_long                      10665\n",
       "name                              10665\n",
       "gppd_idnr                         10665\n",
       "capacity_mw                       10665\n",
       "latitude                          10665\n",
       "longitude                         10665\n",
       "primary_fuel                      10665\n",
       "other_fuel1                          43\n",
       "other_fuel2                           1\n",
       "other_fuel3                           1\n",
       "commissioning_year                 3500\n",
       "owner                              5649\n",
       "source                            10665\n",
       "url                               10665\n",
       "geolocation_source                10555\n",
       "wepp_id                            1663\n",
       "year_of_capacity_data              3450\n",
       "generation_gwh_2013                 633\n",
       "generation_gwh_2014                 937\n",
       "generation_gwh_2015                1252\n",
       "generation_gwh_2016                1819\n",
       "generation_gwh_2017                2299\n",
       "generation_gwh_2018                2726\n",
       "generation_gwh_2019                3260\n",
       "generation_data_source             3284\n",
       "estimated_generation_gwh_2013      7633\n",
       "estimated_generation_gwh_2014      7906\n",
       "estimated_generation_gwh_2015      8272\n",
       "estimated_generation_gwh_2016      8605\n",
       "estimated_generation_gwh_2017     10665\n",
       "estimated_generation_note_2013    10665\n",
       "estimated_generation_note_2014    10665\n",
       "estimated_generation_note_2015    10665\n",
       "estimated_generation_note_2016    10665\n",
       "estimated_generation_note_2017    10665\n",
       "dtype: int64"
      ]
     },
     "execution_count": 218,
     "metadata": {},
     "output_type": "execute_result"
    }
   ],
   "source": [
    "df_generation_gwh = df[df[[\"generation_gwh_2013\"]]\n",
    "                       df_generation_gwh"
   ]
  }
 ],
 "metadata": {
  "kernelspec": {
   "display_name": "Python 3 (ipykernel)",
   "language": "python",
   "name": "python3"
  },
  "language_info": {
   "codemirror_mode": {
    "name": "ipython",
    "version": 3
   },
   "file_extension": ".py",
   "mimetype": "text/x-python",
   "name": "python",
   "nbconvert_exporter": "python",
   "pygments_lexer": "ipython3",
   "version": "3.10.6"
  },
  "toc": {
   "base_numbering": 1,
   "nav_menu": {},
   "number_sections": true,
   "sideBar": true,
   "skip_h1_title": false,
   "title_cell": "Table of Contents",
   "title_sidebar": "Contents",
   "toc_cell": false,
   "toc_position": {},
   "toc_section_display": true,
   "toc_window_display": false
  }
 },
 "nbformat": 4,
 "nbformat_minor": 5
}
