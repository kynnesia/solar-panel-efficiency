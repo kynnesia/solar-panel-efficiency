{
 "cells": [
  {
   "cell_type": "code",
   "execution_count": 2,
   "id": "3fbd599f",
   "metadata": {},
   "outputs": [],
   "source": [
    "import pandas as pd\n",
    "import seaborn as sns"
   ]
  },
  {
   "cell_type": "code",
   "execution_count": 51,
   "id": "07487ec3",
   "metadata": {
    "scrolled": false
   },
   "outputs": [
    {
     "name": "stderr",
     "output_type": "stream",
     "text": [
      "/tmp/ipykernel_3862/3667709401.py:1: DtypeWarning: Columns (10) have mixed types. Specify dtype option on import or set low_memory=False.\n",
      "  df = pd.read_csv(\"../raw_data/global_power_plant_database.csv\")\n"
     ]
    }
   ],
   "source": [
    "df = pd.read_csv(\"../raw_data/global_power_plant_database.csv\")"
   ]
  },
  {
   "cell_type": "markdown",
   "id": "553ec7a0",
   "metadata": {},
   "source": [
    "1. Dataframe option 1  \n",
    "only the longitude and latitude for all the plants"
   ]
  },
  {
   "cell_type": "code",
   "execution_count": 7,
   "id": "4675b30d",
   "metadata": {
    "scrolled": true
   },
   "outputs": [],
   "source": [
    "def get_dataframe_option1 (df) :\n",
    "    df = df[df['primary_fuel']== 'Solar'].reset_index(drop=True)\n",
    "    df.drop(columns=['gppd_idnr', 'capacity_mw','other_fuel1', 'other_fuel2', 'other_fuel3', 'commissioning_year', 'owner', 'source', 'url',\n",
    "       'geolocation_source', 'wepp_id', 'year_of_capacity_data',\n",
    "       'generation_gwh_2013', 'generation_gwh_2014', 'generation_gwh_2015',\n",
    "       'generation_gwh_2016', 'generation_gwh_2017', 'generation_gwh_2018',\n",
    "       'generation_gwh_2019', 'generation_data_source',\n",
    "       'estimated_generation_gwh_2013', 'estimated_generation_gwh_2014',\n",
    "       'estimated_generation_gwh_2015', 'estimated_generation_gwh_2016',\n",
    "       'estimated_generation_gwh_2017', 'estimated_generation_note_2013',\n",
    "       'estimated_generation_note_2014', 'estimated_generation_note_2015',\n",
    "       'estimated_generation_note_2016', 'estimated_generation_note_2017'], inplace=True)\n",
    "    return df\n",
    "df_option1 = get_dataframe_option1(df)"
   ]
  },
  {
   "cell_type": "markdown",
   "id": "c83449b7",
   "metadata": {},
   "source": [
    "2. Dataframe option 2  \n",
    "all the plants + estimated production of 2016 "
   ]
  },
  {
   "cell_type": "code",
   "execution_count": 144,
   "id": "9e08e252",
   "metadata": {},
   "outputs": [],
   "source": [
    "def get_dataframe_option2(df) :\n",
    "    df = pd.read_csv(\"../raw_data/global_power_plant_database.csv\")\n",
    "    df = df.dropna(subset=['estimated_generation_gwh_2017'])\n",
    "    df = df[df['primary_fuel']== 'Solar'].reset_index(drop=True)\n",
    "    df.drop(columns=['gppd_idnr', 'capacity_mw','other_fuel1', 'other_fuel2', 'other_fuel3', 'commissioning_year', 'owner', 'source', 'url',\n",
    "       'geolocation_source', 'wepp_id', 'year_of_capacity_data',\n",
    "       'generation_gwh_2013', 'generation_gwh_2014', 'generation_gwh_2015',\n",
    "       'generation_gwh_2016', 'generation_gwh_2017', 'generation_gwh_2018','generation_gwh_2019',\n",
    "        'generation_data_source',\n",
    "       'estimated_generation_gwh_2013', 'estimated_generation_gwh_2014',\n",
    "       'estimated_generation_gwh_2015', 'estimated_generation_gwh_2016', 'estimated_generation_note_2013',\n",
    "       'estimated_generation_note_2014', 'estimated_generation_note_2015',\n",
    "       'estimated_generation_note_2016', 'estimated_generation_note_2017'], inplace=True)\n",
    "    return df"
   ]
  },
  {
   "cell_type": "markdown",
   "id": "4aae137f",
   "metadata": {},
   "source": [
    "3. Dataframe option 3  \n",
    "all the plants  \n",
    "estimation for all the years (2013, 2014, 2015, 2016, 2017)  \n",
    "real production for the years(2018, 2019)  \n"
   ]
  },
  {
   "cell_type": "code",
   "execution_count": 142,
   "id": "fe5e0193",
   "metadata": {
    "scrolled": true
   },
   "outputs": [
    {
     "name": "stderr",
     "output_type": "stream",
     "text": [
      "/tmp/ipykernel_3862/3667709401.py:1: DtypeWarning: Columns (10) have mixed types. Specify dtype option on import or set low_memory=False.\n",
      "  df = pd.read_csv(\"../raw_data/global_power_plant_database.csv\")\n"
     ]
    }
   ],
   "source": [
    "df = pd.read_csv(\"../raw_data/global_power_plant_database.csv\")"
   ]
  },
  {
   "cell_type": "code",
   "execution_count": 145,
   "id": "866d7c84",
   "metadata": {},
   "outputs": [],
   "source": [
    "def get_dataframe_option3 (df) :\n",
    "    df.drop(columns=['gppd_idnr', 'capacity_mw',\n",
    "       'other_fuel1', 'other_fuel2',\n",
    "       'other_fuel3', 'commissioning_year', 'owner', 'source', 'url',\n",
    "       'geolocation_source', 'wepp_id', 'year_of_capacity_data',\n",
    "       'generation_gwh_2013', 'generation_gwh_2014', 'generation_gwh_2015',\n",
    "       'generation_gwh_2016', 'generation_gwh_2017','generation_data_source',\n",
    "       'estimated_generation_note_2013','estimated_generation_note_2014', 'estimated_generation_note_2015',\n",
    "       'estimated_generation_note_2016', 'estimated_generation_note_2017'], inplace=True)\n",
    "    df = df.dropna(subset=['estimated_generation_gwh_2017', 'generation_gwh_2018', 'generation_gwh_2019',\n",
    "                           'estimated_generation_gwh_2013', 'estimated_generation_gwh_2014', 'estimated_generation_gwh_2015',\n",
    "                           'estimated_generation_gwh_2016'])\n",
    "    df = df[df['primary_fuel']== 'Solar'].reset_index(drop=True)\n",
    "    df = pd.melt(df, id_vars=['country', 'country_long', 'name', 'latitude', 'longitude',\n",
    "       'primary_fuel'], value_vars=['generation_gwh_2018', 'generation_gwh_2019',\n",
    "       'estimated_generation_gwh_2013', 'estimated_generation_gwh_2014',\n",
    "       'estimated_generation_gwh_2015', 'estimated_generation_gwh_2016',\n",
    "       'estimated_generation_gwh_2017'], var_name='year', value_name='production')\n",
    "    df['year'] = df['year'].str.strip('generation_gwh_').str.strip('estimated_generation_gwh_')\n",
    "    return df"
   ]
  },
  {
   "cell_type": "code",
   "execution_count": null,
   "id": "43f50af6",
   "metadata": {},
   "outputs": [],
   "source": []
  }
 ],
 "metadata": {
  "kernelspec": {
   "display_name": "Python 3 (ipykernel)",
   "language": "python",
   "name": "python3"
  },
  "language_info": {
   "codemirror_mode": {
    "name": "ipython",
    "version": 3
   },
   "file_extension": ".py",
   "mimetype": "text/x-python",
   "name": "python",
   "nbconvert_exporter": "python",
   "pygments_lexer": "ipython3",
   "version": "3.10.6"
  },
  "toc": {
   "base_numbering": 1,
   "nav_menu": {},
   "number_sections": true,
   "sideBar": true,
   "skip_h1_title": false,
   "title_cell": "Table of Contents",
   "title_sidebar": "Contents",
   "toc_cell": false,
   "toc_position": {},
   "toc_section_display": true,
   "toc_window_display": false
  }
 },
 "nbformat": 4,
 "nbformat_minor": 5
}
