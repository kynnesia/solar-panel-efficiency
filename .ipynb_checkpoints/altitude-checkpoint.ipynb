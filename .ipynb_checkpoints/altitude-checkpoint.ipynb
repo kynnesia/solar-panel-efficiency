{
 "cells": [
  {
   "cell_type": "code",
   "execution_count": 116,
   "id": "8de81cac",
   "metadata": {},
   "outputs": [],
   "source": [
    "import requests\n",
    "\n",
    "def altitude_df(latitude, longitude):\n",
    "    BASE_URI =\"https://api.opentopodata.org/v1/test-dataset?locations=\"\n",
    "    \n",
    "    # Given a latitude and a longitude, the altitude will be calculate it\n",
    "    \n",
    "    url = BASE_URI+str(latitude)+\",\"+ str(longitude)\n",
    "    \n",
    "    altitude = requests.get(url).json()\n",
    "    return altitude[\"results\"][0]\n"
   ]
  }
 ],
 "metadata": {
  "kernelspec": {
   "display_name": "Python 3 (ipykernel)",
   "language": "python",
   "name": "python3"
  },
  "language_info": {
   "codemirror_mode": {
    "name": "ipython",
    "version": 3
   },
   "file_extension": ".py",
   "mimetype": "text/x-python",
   "name": "python",
   "nbconvert_exporter": "python",
   "pygments_lexer": "ipython3",
   "version": "3.10.6"
  },
  "toc": {
   "base_numbering": 1,
   "nav_menu": {},
   "number_sections": true,
   "sideBar": true,
   "skip_h1_title": false,
   "title_cell": "Table of Contents",
   "title_sidebar": "Contents",
   "toc_cell": false,
   "toc_position": {},
   "toc_section_display": true,
   "toc_window_display": false
  }
 },
 "nbformat": 4,
 "nbformat_minor": 5
}
